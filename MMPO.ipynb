{
  "nbformat": 4,
  "nbformat_minor": 0,
  "metadata": {
    "colab": {
      "name": "MMPO.ipynb",
      "provenance": [],
      "authorship_tag": "ABX9TyN1EuDmGuVrlgZAGz/R5rSQ"
    },
    "kernelspec": {
      "name": "python3",
      "display_name": "Python 3"
    },
    "language_info": {
      "name": "python"
    }
  },
  "cells": []
}