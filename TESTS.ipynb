{
 "cells": [
  {
   "cell_type": "code",
   "execution_count": 1,
   "metadata": {},
   "outputs": [],
   "source": [
    "alpha_j = 0.0016\n",
    "alpha_a = 0.006\n",
    "betta_j = 0.0000007\n",
    "betta_a = 0.000000075\n",
    "gamma_j = 0.00008\n",
    "gamma_a = 0.004\n",
    "delta_j = 0.000016\n",
    "delta_a = 0.00006\n",
    "sigma1 = 1\n",
    "sigma2 = 1\n",
    "\n",
    "D = 120\n",
    "D0 = 70  \n"
   ]
  },
  {
   "cell_type": "code",
   "execution_count": 24,
   "metadata": {},
   "outputs": [
    {
     "name": "stderr",
     "output_type": "stream",
     "text": [
      "C:\\Users\\MANDAR~1\\AppData\\Local\\Temp/ipykernel_6172/1348465460.py:18: RuntimeWarning: invalid value encountered in sqrt\n",
      "  return np.array([s + p + q - np.sqrt(4*r*p + (p + q - s)**2)])\n"
     ]
    },
    {
     "data": {
      "text/plain": [
       "array([  -9.09338607,   45.49573246, -101.0124443 ,  -40.56427621])"
      ]
     },
     "execution_count": 24,
     "metadata": {},
     "output_type": "execute_result"
    }
   ],
   "source": [
    "import random as rn\n",
    "import numpy as np\n",
    "from scipy.optimize import least_squares\n",
    "\n",
    "def J(strat):\n",
    "   M1 = (sigma1*(strat[0] + D))\n",
    "   M2 = (-sigma2*(strat[0] + D + strat[1]/2))\n",
    "   M3 = (-2*(np.pi*strat[1])**2)\n",
    "   M4 = (-((strat[0] + D0)**2 + (strat[1]**2)/2))\n",
    "   M5 = (sigma1*(strat[2] + D))\n",
    "   M6 = (-sigma2*(strat[2] + D + strat[3]/2))\n",
    "   M7 = (-2*(np.pi*strat[3])**2)\n",
    "   M8 = (-((strat[2] + D0)**2 + (strat[3]**2)/2))\n",
    "   r = alpha_a*M5 + betta_a*M7 + delta_a*M8\n",
    "   s = gamma_a*M6\n",
    "   p = alpha_j*M1 + betta_j*M3 + delta_j*M4\n",
    "   q = gamma_j*M2\n",
    "   return np.array([s + p + q - np.sqrt(4*r*p + (p + q - s)**2)])\n",
    "\n",
    "Aj = round(rn.uniform(-D, 0), 4)\n",
    "Bj = round(rn.uniform(-min(Aj + D, -Aj), min(Aj + D, -Aj)), 4)\n",
    "Aa = round(rn.uniform(-D, 0), 4)\n",
    "Ba = round(rn.uniform(-min(Aa + D, -Aa), min(Aa + D, -Aa)), 4)\n",
    "strategy = np.array([Aj, Bj, Aa, Ba])\n",
    "abc = least_squares(J, strategy, bounds=(-120, 120))\n",
    "abc.x\n",
    "\n"
   ]
  }
 ],
 "metadata": {
  "interpreter": {
   "hash": "b333a8d4eeb79150063cd478df1127258f76b9566e6feb3a67bc081e7bfcc4e6"
  },
  "kernelspec": {
   "display_name": "Python 3.9.7 64-bit",
   "language": "python",
   "name": "python3"
  },
  "language_info": {
   "codemirror_mode": {
    "name": "ipython",
    "version": 3
   },
   "file_extension": ".py",
   "mimetype": "text/x-python",
   "name": "python",
   "nbconvert_exporter": "python",
   "pygments_lexer": "ipython3",
   "version": "3.9.7"
  },
  "orig_nbformat": 4
 },
 "nbformat": 4,
 "nbformat_minor": 2
}
