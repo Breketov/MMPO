{
 "cells": [
  {
   "cell_type": "code",
   "execution_count": 1,
   "metadata": {},
   "outputs": [],
   "source": [
    "alpha_j = 0.0016\n",
    "alpha_a = 0.006\n",
    "betta_j = 0.0000007\n",
    "betta_a = 0.000000075\n",
    "gamma_j = 0.00008\n",
    "gamma_a = 0.004\n",
    "delta_j = 0.000016\n",
    "delta_a = 0.00006\n",
    "sigma1 = 1\n",
    "sigma2 = 1\n",
    "\n",
    "D = 120\n",
    "D0 = 70  \n"
   ]
  },
  {
   "cell_type": "code",
   "execution_count": 115,
   "metadata": {},
   "outputs": [
    {
     "data": {
      "text/plain": [
       "36"
      ]
     },
     "execution_count": 115,
     "metadata": {},
     "output_type": "execute_result"
    }
   ],
   "source": [
    "from collections import defaultdict\n",
    "import pandas as pd\n",
    "import numpy as np\n",
    "# Подсчет макропараметров\n",
    "def macroparams():\n",
    "   collect = defaultdict(list)\n",
    "   for i in range(1, 9):\n",
    "      collect['M' + str(i)] = []\n",
    "\n",
    "   collect['M1'].append(1)\n",
    "   collect['M2'].append(2)\n",
    "   collect['M3'].append(3)\n",
    "   collect['M4'].append(4)\n",
    "   collect['M5'].append(5)\n",
    "   collect['M6'].append(6)\n",
    "   collect['M7'].append(7)\n",
    "   collect['M8'].append(8)\n",
    "   \n",
    "   for i in range(1, 9):\n",
    "      for j in range(1, i):\n",
    "         collect['M' + str(i) + 'M' + str(j)] = np.array(collect['M' + str(i)])*np.array(collect['M' + str(j)])\n",
    "\n",
    "   return collect\n",
    "\n",
    "\n",
    "\n",
    "collect = macroparams()\n",
    "len(collect)\n",
    "#collect\n"
   ]
  },
  {
   "cell_type": "code",
   "execution_count": 118,
   "metadata": {},
   "outputs": [
    {
     "ename": "SyntaxError",
     "evalue": "invalid syntax (Temp/ipykernel_8824/2089004027.py, line 17)",
     "output_type": "error",
     "traceback": [
      "\u001b[1;36m  File \u001b[1;32m\"C:\\Users\\MANDAR~1\\AppData\\Local\\Temp/ipykernel_8824/2089004027.py\"\u001b[1;36m, line \u001b[1;32m17\u001b[0m\n\u001b[1;33m    delete collect['M8'].append(8)\u001b[0m\n\u001b[1;37m           ^\u001b[0m\n\u001b[1;31mSyntaxError\u001b[0m\u001b[1;31m:\u001b[0m invalid syntax\n"
     ]
    }
   ],
   "source": [
    "from collections import defaultdict\n",
    "import pandas as pd\n",
    "import numpy as np\n",
    "# Подсчет макропараметров\n",
    "def macroparams():\n",
    "   collect = defaultdict(list)\n",
    "   for i in range(1, 9):\n",
    "      collect['M' + str(i)] = []\n",
    "\n",
    "   collect['M1'].append(1)\n",
    "   collect['M2'].append(2)\n",
    "   collect['M3'].append(3)\n",
    "   collect['M4'].append(4)\n",
    "   collect['M5'].append(5)\n",
    "   collect['M6'].append(6)\n",
    "   collect['M7'].append(7)\n",
    "   collect['M8'].de(8)\n",
    "   \n",
    "\n",
    "   return collect\n",
    "\n",
    "\n",
    "\n",
    "collect = macroparams()\n",
    "len(collect)\n",
    "collect\n"
   ]
  }
 ],
 "metadata": {
  "interpreter": {
   "hash": "b333a8d4eeb79150063cd478df1127258f76b9566e6feb3a67bc081e7bfcc4e6"
  },
  "kernelspec": {
   "display_name": "Python 3.9.7 64-bit",
   "language": "python",
   "name": "python3"
  },
  "language_info": {
   "codemirror_mode": {
    "name": "ipython",
    "version": 3
   },
   "file_extension": ".py",
   "mimetype": "text/x-python",
   "name": "python",
   "nbconvert_exporter": "python",
   "pygments_lexer": "ipython3",
   "version": "3.9.7"
  },
  "orig_nbformat": 4
 },
 "nbformat": 4,
 "nbformat_minor": 2
}
