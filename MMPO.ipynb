{
 "cells": [
  {
   "cell_type": "markdown",
   "metadata": {},
   "source": [
    "# <center> Этап 1 | Обучающая выборка | Ранжирование <center>"
   ]
  },
  {
   "cell_type": "markdown",
   "metadata": {},
   "source": [
    "## 1. Построение обучающей выборки\n",
    "Пусть \n",
    "$$\n",
    "\\begin{cases}\n",
    "    E = \\sigma_1 (x + D)\\\\\n",
    "    S_x = \\sigma_2 (x + D)\n",
    "\\end{cases}\n",
    "-D < x < 0\n",
    "$$\n",
    "$$\n",
    "\\begin{cases}\n",
    "    G = (x + D_0)^2\\\\\n",
    "    S_{\\tau} = cos(2\\pi\\tau) + 1\n",
    "\\end{cases}\n",
    "0 < \\tau < 1\n",
    "$$\n",
    "Возьмем в качестве $v_i$\n",
    "$$x_{yng} = A_{yng} + B_{yng}cos(2\\pi\\tau)\\ \\ \\ \\ \\ \\ x_{old} = A_{old} + B_{old}cos(2\\pi\\tau)$$\n",
    "\n",
    "Ключевые параметры: \n",
    "$$M_1(v_i) = \\int_0^1 E(x_{yngi}(\\tau))d\\tau\\ \\ \\ \\ \\ \\ M_2(v_i) = \\int_0^1 S_{\\tau}(\\tau)S_x(x_{yngi}(\\tau))d\\tau\\ \\ \\ \\ \\ \\ M_3(v_i) = -\\int_0^1 (x'_{yngi}(\\tau))d\\tau\\ \\ \\ \\ \\ \\ M_4(v_i) = -\\int_0^1 G(x_{yngi}(\\tau))d\\tau$$\n",
    "\n",
    "\n",
    "\n"
   ]
  },
  {
   "cell_type": "code",
   "execution_count": null,
   "metadata": {},
   "outputs": [],
   "source": [
    "import csv\n",
    "import random as rn\n",
    "import pandas as pd\n",
    "import numpy as np\n",
    "import matplotlib.pyplot as plt"
   ]
  },
  {
   "cell_type": "code",
   "execution_count": null,
   "metadata": {},
   "outputs": [],
   "source": [
    "def rand_A_B(Nmax):\n",
    "   A_ = []\n",
    "   B_ = []\n",
    "   for i in range(0, Nmax):\n",
    "      A = round(rn.uniform(-D, 0), 3)\n",
    "      B = round(rn.uniform(-min(A + D, -A), min(A + D, -A)), 3)\n",
    "      A_.append(A)\n",
    "      B_.append(B)\n",
    "   return A_, B_"
   ]
  },
  {
   "cell_type": "code",
   "execution_count": null,
   "metadata": {},
   "outputs": [],
   "source": [
    "def strategy(t, A, B):\n",
    "   x_yng = []\n",
    "   for i in range(0, Nmax):\n",
    "      x_yng_ = A[i] + B[i]*np.cos(2*np.pi*t[i])\n",
    "      x_yng_ = round(x_yng_, 3)\n",
    "      x_yng.append(x_yng_)\n",
    "   return x_yng"
   ]
  },
  {
   "cell_type": "code",
   "execution_count": null,
   "metadata": {},
   "outputs": [],
   "source": [
    "Nmax = 20\n",
    "D = 120\n",
    "D0 = 70  \n",
    "sigma1 = 0.25\n",
    "sigma2 = 0.0003\n",
    "\n",
    "AB = rand_A_B(20)\n",
    "A = AB[0]\n",
    "B = AB[1]\n",
    "t = np.linspace(0, 1, Nmax)\n",
    "x = strategy(t, A, B)\n",
    "print(x)\n",
    "\n",
    "plt.plot(t, x)\n"
   ]
  }
 ],
 "metadata": {
  "interpreter": {
   "hash": "b333a8d4eeb79150063cd478df1127258f76b9566e6feb3a67bc081e7bfcc4e6"
  },
  "kernelspec": {
   "display_name": "Python 3.9.7 64-bit",
   "language": "python",
   "name": "python3"
  },
  "language_info": {
   "codemirror_mode": {
    "name": "ipython",
    "version": 3
   },
   "file_extension": ".py",
   "mimetype": "text/x-python",
   "name": "python",
   "nbconvert_exporter": "python",
   "pygments_lexer": "ipython3",
   "version": "3.9.7"
  },
  "orig_nbformat": 4
 },
 "nbformat": 4,
 "nbformat_minor": 2
}
