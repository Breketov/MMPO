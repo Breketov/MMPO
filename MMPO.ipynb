{
 "cells": [
  {
   "cell_type": "markdown",
   "metadata": {},
   "source": [
    "# Этап 1 | Обучающая выборка | Ранжирование"
   ]
  },
  {
   "cell_type": "markdown",
   "metadata": {},
   "source": [
    "## 1. Построение обучающей выборки\n",
    "Пусть \n",
    "$$\n",
    "\\begin{cases}\n",
    "    E = \\sigma_1 (x + D)\\\\\n",
    "    S_x = \\sigma_2 (x + D)\n",
    "\\end{cases} -D < x < 0\n",
    "$$\n",
    "$$\n",
    "\\begin{cases}\n",
    "    G = (x + D_0)^2\\\\\n",
    "    S_{\\tau} = cos(2\\pi\\tau) + 1\n",
    "\\end{cases} 0 < \\tau < 1\n",
    "$$\n",
    "Возьмем в качестве $v_i$\n",
    "$$x_{yng} = A_{yng} + B_{yng}cos(2\\pi\\tau)\\\\ x_{old} = A_{old} + B_{old}cos(2\\pi\\tau)$$\n",
    "\n",
    "Ключевые параметры: \n",
    "$$\n",
    "M_1(v_i) = \\int\\limits_0^1 E(x_{yngi}(\\tau))d\\tau \\\\\n",
    "M_2(v_i) = \\int\\limits_0^1 S_{\\tau}(\\tau)S_x(_{yngi}(\\tau))d\\tau \\\\\n",
    "M_3(v_i) = -\\int\\limits_0^1 (x'_{yngi}(\\tau))d\\tau \\\\\n",
    "M_4(v_i) = -\\int\\limits_0^1 G(x_{yngi}(\\tau))d\\tau \\\\\n",
    "$$\n",
    "\n",
    "\n",
    "\n"
   ]
  },
  {
   "cell_type": "code",
   "execution_count": null,
   "metadata": {},
   "outputs": [],
   "source": [
    "import pandas as pd\n",
    "import numpy as np\n",
    "import matplotlib.pyplot as plt\n",
    "\n",
    "D = 120\n",
    "D0 = 70  \n",
    "sigma1 = 1\n",
    "sigma2 = 1\n",
    "\n",
    "M1 = sigma1*(A + D)\n",
    "M2 = -sigma2*(A + D + B/2)\n",
    "M3 = -2*(np.pi8B)**2\n",
    "M4 = -((A + D0)**2 + (B**2)/2)"
   ]
  }
 ],
 "metadata": {
  "interpreter": {
   "hash": "b333a8d4eeb79150063cd478df1127258f76b9566e6feb3a67bc081e7bfcc4e6"
  },
  "kernelspec": {
   "display_name": "Python 3.9.7 64-bit",
   "language": "python",
   "name": "python3"
  },
  "language_info": {
   "codemirror_mode": {
    "name": "ipython",
    "version": 3
   },
   "file_extension": ".py",
   "mimetype": "text/x-python",
   "name": "python",
   "nbconvert_exporter": "python",
   "pygments_lexer": "ipython3",
   "version": "3.9.7"
  },
  "orig_nbformat": 4
 },
 "nbformat": 4,
 "nbformat_minor": 2
}
