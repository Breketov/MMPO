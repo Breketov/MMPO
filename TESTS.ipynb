{
 "cells": [
  {
   "cell_type": "code",
   "execution_count": 1,
   "metadata": {},
   "outputs": [
    {
     "data": {
      "image/png": "[encoded data removed]",
      "text/plain": [
       "<Figure size 432x288 with 1 Axes>"
      ]
     },
     "metadata": {
      "needs_background": "light"
     },
     "output_type": "display_data"
    }
   ],
   "source": [
    "import numpy as np\n",
    "import matplotlib.pyplot as plt\n",
    "def x(A, B, A_, B_):\n",
    "   t = np.linspace(0, 1, 20)\n",
    "   for i in range(0, len(A)):\n",
    "      x = A[i] + B[i]*np.cos(2*np.pi*t)\n",
    "      y = A_[i] + B_[i]*np.cos(2*np.pi*t)\n",
    "      plt.plot(t, x, 'g-')\n",
    "      plt.plot(t, y, 'r-')\n",
    "   plt.show()\n",
    "\n",
    "x([-7.7983,-35.8252, -102.0838,-13.5181], [5.5215,-25.2821,-14.5396,-2.7364], [-112.1698, -113.0675,-118.8532,-115.6473], [0.1625,-2.485,-0.016,-1.4006])"
   ]
  },
  {
   "cell_type": "code",
   "execution_count": null,
   "metadata": {},
   "outputs": [],
   "source": [
    "# Тут нормализуются макропараметры\n",
    "\"\"\" \n",
    "def macroparam_norm(Nmax):\n",
    "   data_marco = pd.read_csv('data_macro.csv')\n",
    "   M1 = data_macro['M1'].tolist()\n",
    "   M2 = data_macro['M2'].tolist()\n",
    "   M3 = data_macro['M3'].tolist()\n",
    "   M4 = data_macro['M4'].tolist()\n",
    "   M5 = data_macro['M5'].tolist()\n",
    "   M6 = data_macro['M6'].tolist()\n",
    "   M7 = data_macro['M7'].tolist()\n",
    "   M8 = data_macro['M8'].tolist()\n",
    "   abs_M1, abs_M2, abs_M3, abs_M4, abs_M5, abs_M6, abs_M7, abs_M8 = [], [], [], [], [], [], [], []\n",
    "   M1_n, M2_n, M3_n, M4_n, M5_n, M6_n, M7_n, M8_n = [], [], [], [], [], [], [], []\n",
    "   for i in range(0, Nmax):\n",
    "      abs_M1.append(abs(M1[i]))\n",
    "      abs_M2.append(abs(M2[i]))\n",
    "      abs_M3.append(abs(M3[i]))\n",
    "      abs_M4.append(abs(M4[i]))\n",
    "      abs_M5.append(abs(M5[i]))\n",
    "      abs_M6.append(abs(M6[i]))\n",
    "      abs_M7.append(abs(M7[i]))\n",
    "      abs_M8.append(abs(M8[i]))\n",
    "   \n",
    "   for i in range(0, Nmax):\n",
    "      M1_n.append(M1[i]/max(abs_M1))\n",
    "      M2_n.append(M2[i]/max(abs_M2))\n",
    "      M3_n.append(M3[i]/max(abs_M3)) \n",
    "      M4_n.append(M4[i]/max(abs_M4))\n",
    "      M5_n.append(M5[i]/max(abs_M5))\n",
    "      M6_n.append(M6[i]/max(abs_M6))\n",
    "      M7_n.append(M7[i]/max(abs_M7)) \n",
    "      M8_n.append(M8[i]/max(abs_M8))\n",
    "\n",
    "   data_macro_norm = {'M1_norm': M1_n, 'M2_norm': M2_n, 'M3_norm': M3_n, 'M4_norm': M4_n, 'M5_norm': M5_n, 'M6_norm': M6_n, 'M7_norm': M7_n, 'M8_norm': M8_n}\n",
    "   data = pd.DataFrame(data = data_macro_norm)\n",
    "   data.to_csv(\"data_macro_norm.csv\")\n",
    "   return data\n",
    "print('Подсчитаны нормализованные макропараметры')\n",
    "data_macro_norm = macroparam_norm(Nmax)\n",
    "data_macro_norm\n",
    " \"\"\""
   ]
  },
  {
   "cell_type": "code",
   "execution_count": null,
   "metadata": {},
   "outputs": [],
   "source": [
    "\"\"\" # Создание стратегий\n",
    "def strategy(t, Nmax):\n",
    "   data = pd.read_csv('data_param_AB.csv')\n",
    "   Aj = data['A_j'].tolist()\n",
    "   Bj = data['B_j'].tolist()\n",
    "   Aa = data['A_a'].tolist()\n",
    "   Ba = data['B_a'].tolist()\n",
    "   x_j, x_a = [], []\n",
    "   for i in range(0, Nmax):\n",
    "      xj = Aj[i] + Bj[i]*np.cos(2*np.pi*t)\n",
    "      x_j.append(xj)\n",
    "\n",
    "      xa = Aa[i] + Ba[i]*np.cos(2*np.pi*t)\n",
    "      x_a.append(xa)\n",
    "   strat = [x_j, x_a]\n",
    "   data_strat = {'x': x_yng,'x': x_old}\n",
    "   data = pd.DataFrame(data = data_strat)\n",
    "   data.to_csv(\"data_strat.csv\")\n",
    "   return x_yng, x_old \n",
    "\n",
    "\"\"\""
   ]
  },
  {
   "cell_type": "code",
   "execution_count": 1,
   "metadata": {},
   "outputs": [],
   "source": [
    "alpha_j = 0.0016\n",
    "alpha_a = 0.006\n",
    "betta_j = 0.0000007\n",
    "betta_a = 0.000000075\n",
    "gamma_j = 0.00008\n",
    "gamma_a = 0.004\n",
    "delta_j = 0.000016\n",
    "delta_a = 0.00006\n",
    "sigma1 = 1\n",
    "sigma2 = 1\n",
    "\n",
    "D = 120\n",
    "D0 = 70  \n",
    "\n",
    "Nmax = 20\n",
    "import pandas as pd\n",
    "import numpy as np\n",
    "# Подсчет макропараметров\n",
    "def macroparams(Nmax):\n",
    "   data_strat = pd.read_csv('data_strat.csv')\n",
    "   Aj = data_strat['A_J'].tolist()\n",
    "   Bj = data_strat['B_J'].tolist()\n",
    "   Aa = data_strat['A_A'].tolist()\n",
    "   Ba = data_strat['B_A'].tolist()\n",
    "   M1, M2, M3, M4, M5, M6, M7, M8 = [], [], [], [], [], [], [], []\n",
    "   for i in range(0, Nmax):\n",
    "      M1.append(round(sigma1*(Aj[i] + D), 5))\n",
    "      M2.append(round(-sigma2*(Aj[i] + D + Bj[i]/2), 5))\n",
    "      M3.append(round(-2*(np.pi*Bj[i])**2, 5))\n",
    "      M4.append(round(-((Aj[i] + D0)**2 + (Bj[i]**2)/2), 5))\n",
    "      M5.append(round(sigma1*(Aa[i] + D), 5))\n",
    "      M6.append(round(-sigma2*(Aa[i] + D + Ba[i]/2), 5))\n",
    "      M7.append(round(-2*(np.pi*Ba[i])**2, 5))\n",
    "      M8.append(round(-((Aa[i] + D0)**2 + (Ba[i]**2)/2), 5))\n",
    "   data_macro = {'M1': M1, 'M2': M2, 'M3': M3, 'M4': M4, 'M5': M5, 'M6': M6, 'M7': M7, 'M8': M8}\n",
    "   data = pd.DataFrame(data = data_macro)\n",
    "   data.to_csv(\"data_macro.csv\", index=False)\n",
    "   return M1, M2, M3, M4, M5, M6, M7, M8"
   ]
  }
 ],
 "metadata": {
  "interpreter": {
   "hash": "b333a8d4eeb79150063cd478df1127258f76b9566e6feb3a67bc081e7bfcc4e6"
  },
  "kernelspec": {
   "display_name": "Python 3.9.7 64-bit",
   "language": "python",
   "name": "python3"
  },
  "language_info": {
   "codemirror_mode": {
    "name": "ipython",
    "version": 3
   },
   "file_extension": ".py",
   "mimetype": "text/x-python",
   "name": "python",
   "nbconvert_exporter": "python",
   "pygments_lexer": "ipython3",
   "version": "3.9.7"
  },
  "orig_nbformat": 4
 },
 "nbformat": 4,
 "nbformat_minor": 2
}
